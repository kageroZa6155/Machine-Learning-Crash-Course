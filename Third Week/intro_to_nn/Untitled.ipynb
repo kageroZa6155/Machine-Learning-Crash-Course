{
 "cells": [
  {
   "cell_type": "code",
   "execution_count": 1,
   "metadata": {},
   "outputs": [
    {
     "name": "stdout",
     "output_type": "stream",
     "text": [
      "Imported modules.\n"
     ]
    }
   ],
   "source": [
    "import numpy as np\n",
    "import pandas as pd\n",
    "import tensorflow as tf\n",
    "from tensorflow.keras import layers\n",
    "\n",
    "# data visualization\n",
    "from matplotlib import pyplot as plt\n",
    "import seaborn as sns\n",
    "sns.set()\n",
    "# The following lines adjust the granularity of reporting. \n",
    "pd.options.display.max_rows = 10\n",
    "pd.options.display.float_format = \"{:.1f}\".format\n",
    "\n",
    "print(\"Imported modules.\")"
   ]
  },
  {
   "cell_type": "markdown",
   "metadata": {},
   "source": [
    "#### ***Load Datasets***"
   ]
  },
  {
   "cell_type": "code",
   "execution_count": 2,
   "metadata": {},
   "outputs": [],
   "source": [
    "# load train data\n",
    "train_df = pd.read_csv(\"https://download.mlcc.google.com/mledu-datasets/california_housing_train.csv\")\n",
    "# Shuffle train data...\n",
    "train_df = train_df.reindex(np.random.permutation(train_df.index))\n",
    "\n",
    "# Load test data\n",
    "test_df = pd.read_csv(\"https://download.mlcc.google.com/mledu-datasets/california_housing_test.csv\")"
   ]
  },
  {
   "cell_type": "code",
   "execution_count": 3,
   "metadata": {},
   "outputs": [
    {
     "name": "stdout",
     "output_type": "stream",
     "text": [
      "Normalization is done!\n"
     ]
    }
   ],
   "source": [
    "# Normalize Data\n",
    "# train data normalization\n",
    "train_mean = train_df.mean()\n",
    "train_std = train_df.std()\n",
    "\n",
    "normalized_train_df = (train_df - train_mean)/train_std\n",
    "\n",
    "# test data normalization\n",
    "test_mean = test_df.mean()\n",
    "test_std = test_df.std()\n",
    "\n",
    "normalized_test_df = (test_df - test_mean) / test_std\n",
    "\n",
    "print(\"Normalization is done!\")"
   ]
  },
  {
   "cell_type": "code",
   "execution_count": 4,
   "metadata": {},
   "outputs": [
    {
     "data": {
      "text/html": [
       "<div>\n",
       "<style scoped>\n",
       "    .dataframe tbody tr th:only-of-type {\n",
       "        vertical-align: middle;\n",
       "    }\n",
       "\n",
       "    .dataframe tbody tr th {\n",
       "        vertical-align: top;\n",
       "    }\n",
       "\n",
       "    .dataframe thead th {\n",
       "        text-align: right;\n",
       "    }\n",
       "</style>\n",
       "<table border=\"1\" class=\"dataframe\">\n",
       "  <thead>\n",
       "    <tr style=\"text-align: right;\">\n",
       "      <th></th>\n",
       "      <th>longitude</th>\n",
       "      <th>latitude</th>\n",
       "      <th>housing_median_age</th>\n",
       "      <th>total_rooms</th>\n",
       "      <th>total_bedrooms</th>\n",
       "      <th>population</th>\n",
       "      <th>households</th>\n",
       "      <th>median_income</th>\n",
       "      <th>median_house_value</th>\n",
       "    </tr>\n",
       "  </thead>\n",
       "  <tbody>\n",
       "    <tr>\n",
       "      <th>1609</th>\n",
       "      <td>1.2</td>\n",
       "      <td>-0.9</td>\n",
       "      <td>-0.4</td>\n",
       "      <td>0.4</td>\n",
       "      <td>0.4</td>\n",
       "      <td>1.1</td>\n",
       "      <td>0.3</td>\n",
       "      <td>-1.0</td>\n",
       "      <td>-1.1</td>\n",
       "    </tr>\n",
       "    <tr>\n",
       "      <th>16673</th>\n",
       "      <td>-1.6</td>\n",
       "      <td>1.3</td>\n",
       "      <td>1.1</td>\n",
       "      <td>-0.6</td>\n",
       "      <td>-0.6</td>\n",
       "      <td>-0.4</td>\n",
       "      <td>-0.5</td>\n",
       "      <td>-0.7</td>\n",
       "      <td>-0.5</td>\n",
       "    </tr>\n",
       "    <tr>\n",
       "      <th>4598</th>\n",
       "      <td>0.7</td>\n",
       "      <td>-0.8</td>\n",
       "      <td>1.3</td>\n",
       "      <td>-0.5</td>\n",
       "      <td>-0.7</td>\n",
       "      <td>-0.7</td>\n",
       "      <td>-0.7</td>\n",
       "      <td>0.3</td>\n",
       "      <td>-0.2</td>\n",
       "    </tr>\n",
       "    <tr>\n",
       "      <th>6050</th>\n",
       "      <td>0.7</td>\n",
       "      <td>-0.8</td>\n",
       "      <td>0.3</td>\n",
       "      <td>-0.2</td>\n",
       "      <td>0.2</td>\n",
       "      <td>0.8</td>\n",
       "      <td>0.3</td>\n",
       "      <td>-0.7</td>\n",
       "      <td>-0.3</td>\n",
       "    </tr>\n",
       "    <tr>\n",
       "      <th>1116</th>\n",
       "      <td>1.2</td>\n",
       "      <td>-1.0</td>\n",
       "      <td>-2.0</td>\n",
       "      <td>12.7</td>\n",
       "      <td>10.5</td>\n",
       "      <td>10.3</td>\n",
       "      <td>10.0</td>\n",
       "      <td>0.4</td>\n",
       "      <td>0.0</td>\n",
       "    </tr>\n",
       "    <tr>\n",
       "      <th>1935</th>\n",
       "      <td>1.1</td>\n",
       "      <td>-1.2</td>\n",
       "      <td>0.1</td>\n",
       "      <td>0.0</td>\n",
       "      <td>0.0</td>\n",
       "      <td>-0.1</td>\n",
       "      <td>0.0</td>\n",
       "      <td>0.4</td>\n",
       "      <td>0.7</td>\n",
       "    </tr>\n",
       "    <tr>\n",
       "      <th>735</th>\n",
       "      <td>1.3</td>\n",
       "      <td>-1.4</td>\n",
       "      <td>-0.3</td>\n",
       "      <td>-0.2</td>\n",
       "      <td>-0.4</td>\n",
       "      <td>0.1</td>\n",
       "      <td>-0.3</td>\n",
       "      <td>0.7</td>\n",
       "      <td>-0.6</td>\n",
       "    </tr>\n",
       "  </tbody>\n",
       "</table>\n",
       "</div>"
      ],
      "text/plain": [
       "       longitude  latitude  housing_median_age  total_rooms  total_bedrooms  \\\n",
       "1609         1.2      -0.9                -0.4          0.4             0.4   \n",
       "16673       -1.6       1.3                 1.1         -0.6            -0.6   \n",
       "4598         0.7      -0.8                 1.3         -0.5            -0.7   \n",
       "6050         0.7      -0.8                 0.3         -0.2             0.2   \n",
       "1116         1.2      -1.0                -2.0         12.7            10.5   \n",
       "1935         1.1      -1.2                 0.1          0.0             0.0   \n",
       "735          1.3      -1.4                -0.3         -0.2            -0.4   \n",
       "\n",
       "       population  households  median_income  median_house_value  \n",
       "1609          1.1         0.3           -1.0                -1.1  \n",
       "16673        -0.4        -0.5           -0.7                -0.5  \n",
       "4598         -0.7        -0.7            0.3                -0.2  \n",
       "6050          0.8         0.3           -0.7                -0.3  \n",
       "1116         10.3        10.0            0.4                 0.0  \n",
       "1935         -0.1         0.0            0.4                 0.7  \n",
       "735           0.1        -0.3            0.7                -0.6  "
      ]
     },
     "execution_count": 4,
     "metadata": {},
     "output_type": "execute_result"
    }
   ],
   "source": [
    "normalized_train_df.head(7)"
   ]
  },
  {
   "cell_type": "code",
   "execution_count": 5,
   "metadata": {},
   "outputs": [
    {
     "data": {
      "text/html": [
       "<div>\n",
       "<style scoped>\n",
       "    .dataframe tbody tr th:only-of-type {\n",
       "        vertical-align: middle;\n",
       "    }\n",
       "\n",
       "    .dataframe tbody tr th {\n",
       "        vertical-align: top;\n",
       "    }\n",
       "\n",
       "    .dataframe thead th {\n",
       "        text-align: right;\n",
       "    }\n",
       "</style>\n",
       "<table border=\"1\" class=\"dataframe\">\n",
       "  <thead>\n",
       "    <tr style=\"text-align: right;\">\n",
       "      <th></th>\n",
       "      <th>longitude</th>\n",
       "      <th>latitude</th>\n",
       "      <th>housing_median_age</th>\n",
       "      <th>total_rooms</th>\n",
       "      <th>total_bedrooms</th>\n",
       "      <th>population</th>\n",
       "      <th>households</th>\n",
       "      <th>median_income</th>\n",
       "      <th>median_house_value</th>\n",
       "    </tr>\n",
       "  </thead>\n",
       "  <tbody>\n",
       "    <tr>\n",
       "      <th>0</th>\n",
       "      <td>-1.2</td>\n",
       "      <td>0.8</td>\n",
       "      <td>-0.1</td>\n",
       "      <td>0.6</td>\n",
       "      <td>0.3</td>\n",
       "      <td>0.1</td>\n",
       "      <td>0.3</td>\n",
       "      <td>1.5</td>\n",
       "      <td>1.2</td>\n",
       "    </tr>\n",
       "    <tr>\n",
       "      <th>1</th>\n",
       "      <td>0.6</td>\n",
       "      <td>-0.6</td>\n",
       "      <td>1.1</td>\n",
       "      <td>-0.5</td>\n",
       "      <td>-0.5</td>\n",
       "      <td>-0.6</td>\n",
       "      <td>-0.6</td>\n",
       "      <td>-0.1</td>\n",
       "      <td>-0.3</td>\n",
       "    </tr>\n",
       "    <tr>\n",
       "      <th>2</th>\n",
       "      <td>0.9</td>\n",
       "      <td>-0.9</td>\n",
       "      <td>-0.1</td>\n",
       "      <td>0.5</td>\n",
       "      <td>-0.1</td>\n",
       "      <td>0.1</td>\n",
       "      <td>0.0</td>\n",
       "      <td>1.1</td>\n",
       "      <td>0.6</td>\n",
       "    </tr>\n",
       "    <tr>\n",
       "      <th>3</th>\n",
       "      <td>0.6</td>\n",
       "      <td>-0.9</td>\n",
       "      <td>-0.1</td>\n",
       "      <td>-1.2</td>\n",
       "      <td>-1.2</td>\n",
       "      <td>-1.3</td>\n",
       "      <td>-1.3</td>\n",
       "      <td>1.3</td>\n",
       "      <td>1.1</td>\n",
       "    </tr>\n",
       "    <tr>\n",
       "      <th>4</th>\n",
       "      <td>-0.0</td>\n",
       "      <td>0.3</td>\n",
       "      <td>-0.8</td>\n",
       "      <td>-0.6</td>\n",
       "      <td>-0.7</td>\n",
       "      <td>-0.5</td>\n",
       "      <td>-0.7</td>\n",
       "      <td>-0.5</td>\n",
       "      <td>-1.1</td>\n",
       "    </tr>\n",
       "    <tr>\n",
       "      <th>5</th>\n",
       "      <td>0.0</td>\n",
       "      <td>0.4</td>\n",
       "      <td>0.6</td>\n",
       "      <td>-0.7</td>\n",
       "      <td>-0.8</td>\n",
       "      <td>-0.7</td>\n",
       "      <td>-0.8</td>\n",
       "      <td>-1.2</td>\n",
       "      <td>-1.2</td>\n",
       "    </tr>\n",
       "    <tr>\n",
       "      <th>6</th>\n",
       "      <td>-0.9</td>\n",
       "      <td>1.4</td>\n",
       "      <td>1.1</td>\n",
       "      <td>-0.7</td>\n",
       "      <td>-0.7</td>\n",
       "      <td>-0.8</td>\n",
       "      <td>-0.7</td>\n",
       "      <td>-1.2</td>\n",
       "      <td>-1.2</td>\n",
       "    </tr>\n",
       "  </tbody>\n",
       "</table>\n",
       "</div>"
      ],
      "text/plain": [
       "   longitude  latitude  housing_median_age  total_rooms  total_bedrooms  \\\n",
       "0       -1.2       0.8                -0.1          0.6             0.3   \n",
       "1        0.6      -0.6                 1.1         -0.5            -0.5   \n",
       "2        0.9      -0.9                -0.1          0.5            -0.1   \n",
       "3        0.6      -0.9                -0.1         -1.2            -1.2   \n",
       "4       -0.0       0.3                -0.8         -0.6            -0.7   \n",
       "5        0.0       0.4                 0.6         -0.7            -0.8   \n",
       "6       -0.9       1.4                 1.1         -0.7            -0.7   \n",
       "\n",
       "   population  households  median_income  median_house_value  \n",
       "0         0.1         0.3            1.5                 1.2  \n",
       "1        -0.6        -0.6           -0.1                -0.3  \n",
       "2         0.1         0.0            1.1                 0.6  \n",
       "3        -1.3        -1.3            1.3                 1.1  \n",
       "4        -0.5        -0.7           -0.5                -1.1  \n",
       "5        -0.7        -0.8           -1.2                -1.2  \n",
       "6        -0.8        -0.7           -1.2                -1.2  "
      ]
     },
     "execution_count": 5,
     "metadata": {},
     "output_type": "execute_result"
    }
   ],
   "source": [
    "normalized_test_df.head(7)"
   ]
  },
  {
   "cell_type": "markdown",
   "metadata": {},
   "source": [
    "#### ***Representing Data*** \n",
    "\n",
    "- **latitude** $\\times$ **longitude** (*feature cross)\n",
    "- **median income**\n",
    "- **population**\n",
    "\n",
    "We'll be creating these features in the following code cell."
   ]
  },
  {
   "cell_type": "code",
   "execution_count": 6,
   "metadata": {},
   "outputs": [],
   "source": [
    "# Create an empty list that will eventually hold all created feature columns.\n",
    "feature_columns = []\n",
    "\n",
    "# We scaled all the columns, including latitude and longitude, into their\n",
    "# Z scores. So, instead of picking a resolution in degrees, we're going\n",
    "# to use resolution_in_Zs.  A resolution_in_Zs of 1 corresponds to \n",
    "# a full standard deviation. \n",
    "resolution_in_Zs = 0.3  # 3/10 of a standard deviation\n",
    "\n",
    "# Create a bucket feature column for latitude.\n",
    "latitude_as_a_numeric_column = tf.feature_column.numeric_column(\"latitude\")\n",
    "latitude_boundaries = list(np.arange(int(min(normalized_train_df['latitude'])), \n",
    "                                     int(max(normalized_train_df['latitude'])), \n",
    "                                     resolution_in_Zs))\n",
    "\n",
    "latitude = tf.feature_column.bucketized_column(latitude_as_a_numeric_column, latitude_boundaries)\n",
    "\n",
    "# Create a bucket feature column for longitude.\n",
    "longitude_as_a_numeric_column = tf.feature_column.numeric_column(\"longitude\")\n",
    "longitude_boundaries = list(np.arange(int(min(normalized_train_df['longitude'])), \n",
    "                                      int(max(normalized_train_df['longitude'])), \n",
    "                                      resolution_in_Zs))\n",
    "longitude = tf.feature_column.bucketized_column(longitude_as_a_numeric_column, \n",
    "                                                longitude_boundaries)\n",
    "\n",
    "\n",
    "# Create a feature cross of latitude and longitude.\n",
    "latitude_x_longitude = tf.feature_column.crossed_column([latitude, longitude], hash_bucket_size=100)\n",
    "crossed_feature = tf.feature_column.indicator_column(latitude_x_longitude)\n",
    "feature_columns.append(crossed_feature)  \n",
    "\n",
    "# Represent median_income as a floating-point value.\n",
    "median_income = tf.feature_column.numeric_column(\"median_income\")\n",
    "feature_columns.append(median_income)\n",
    "\n",
    "# Represent population as a floating-point value.\n",
    "population = tf.feature_column.numeric_column(\"population\")\n",
    "feature_columns.append(population)\n",
    "\n",
    "# Convert the list of feature columns into a layer that will later be fed into\n",
    "# the model. \n",
    "my_feature_layer = tf.keras.layers.DenseFeatures(feature_columns)"
   ]
  },
  {
   "cell_type": "markdown",
   "metadata": {},
   "source": [
    "#### ***Baseline model: Build Linear Regression Model*** \n",
    "\n",
    "###### *Define Helper Functions*"
   ]
  },
  {
   "cell_type": "code",
   "execution_count": 7,
   "metadata": {},
   "outputs": [
    {
     "name": "stdout",
     "output_type": "stream",
     "text": [
      "Defined the plot_the_loss_curve function.\n"
     ]
    }
   ],
   "source": [
    "# Define plotting function\n",
    "def plot_the_loss_curve(epochs, mse):\n",
    "    plt.figure()\n",
    "    # Heading Axis of the plot\n",
    "    plt.xlabel(\"Epoch\")\n",
    "    plt.ylabel(\"Mean Squared Error\")\n",
    "\n",
    "    plt.plot(epochs, mse, label=\"Loss\")\n",
    "    plt.legend()\n",
    "    # Setting the upper and lower limit of the y-axis\n",
    "    plt.ylim([mse.min()*0.95, mse.max() * 1.03])\n",
    "    \n",
    "    plt.show()  \n",
    "\n",
    "print(\"Defined the plot_the_loss_curve function.\")"
   ]
  },
  {
   "cell_type": "code",
   "execution_count": 8,
   "metadata": {},
   "outputs": [
    {
     "name": "stdout",
     "output_type": "stream",
     "text": [
      "Defined the create & train model functions.\n"
     ]
    }
   ],
   "source": [
    "# Define the functions that create and train the Linear Regression Model.\n",
    "def create_model(learning_rate, feature_layer):\n",
    "    # most simple tf.keras models are sequential.\n",
    "    model = tf.keras.models.Sequential()\n",
    "    \n",
    "    # add feature_layer to the model.\n",
    "    model.add(feature_layer)\n",
    "    \n",
    "    # add linear layer to the model to yield a simple linear regressor.\n",
    "    model.add(tf.keras.layers.Dense(units=1, input_shape=(1,)))\n",
    "    \n",
    "    # Construct the layers into a model\n",
    "    # So that tf can execute.\n",
    "    model.compile(optimizer=tf.keras.optimizers.RMSprop(lr=learning_rate),\n",
    "                 loss=\"mean_squared_error\",\n",
    "                 metrics=[tf.keras.metrics.MeanSquaredError()])\n",
    "    \n",
    "    return model\n",
    "\n",
    "# define training function\n",
    "def train_model(model, dataset, epochs, batch_size, label_name):\n",
    "    \n",
    "    # Split data into feature and target/label\n",
    "    features = {name:np.array(value) for name, value in dataset.items()}\n",
    "    target = np.array(features.pop(label_name))\n",
    "    \n",
    "    # Fit model.\n",
    "    history = model.fit(x=features, y=target, \n",
    "                        batch_size = batch_size, \n",
    "                        epochs = epochs,\n",
    "                        shuffle= True)\n",
    "    # Get Details\n",
    "    epochs = history.epoch\n",
    "    hist = pd.DataFrame(history.history)\n",
    "    mse = hist[\"mean_squared_error\"]\n",
    "    \n",
    "    return epochs, mse\n",
    "\n",
    "print(\"Defined the create & train model functions.\")"
   ]
  },
  {
   "cell_type": "code",
   "execution_count": 9,
   "metadata": {},
   "outputs": [
    {
     "name": "stdout",
     "output_type": "stream",
     "text": [
      "Defined the create & train evaluation function.\n"
     ]
    }
   ],
   "source": [
    "# Define evaluation function\n",
    "def evaluate(df, label_name, feature_layer, learning_rate=.01, epochs=10, batch_size=100):\n",
    "    # create model\n",
    "    model = create_model(learning_rate = learning_rate, \n",
    "                         feature_layer = feature_layer)\n",
    "    # train the model\n",
    "    epochs, mse = train_model(model=model, dataset=df,\n",
    "                               epochs=epochs, \n",
    "                               batch_size=batch_size,\n",
    "                               label_name= label_name)\n",
    "    # plot the loss curve\n",
    "    plot_the_loss_curve(epochs, mse)\n",
    "    \n",
    "    return model\n",
    "\n",
    "print(\"Defined the create & train evaluation function.\")"
   ]
  },
  {
   "cell_type": "code",
   "execution_count": 10,
   "metadata": {},
   "outputs": [
    {
     "name": "stdout",
     "output_type": "stream",
     "text": [
      "WARNING:tensorflow:From C:\\Users\\kage\\anaconda3\\lib\\site-packages\\tensorflow_core\\python\\feature_column\\feature_column_v2.py:4267: IndicatorColumn._variable_shape (from tensorflow.python.feature_column.feature_column_v2) is deprecated and will be removed in a future version.\n",
      "Instructions for updating:\n",
      "The old _FeatureColumn APIs are being deprecated. Please use the new FeatureColumn APIs instead.\n",
      "WARNING:tensorflow:From C:\\Users\\kage\\anaconda3\\lib\\site-packages\\tensorflow_core\\python\\feature_column\\feature_column_v2.py:4322: CrossedColumn._num_buckets (from tensorflow.python.feature_column.feature_column_v2) is deprecated and will be removed in a future version.\n",
      "Instructions for updating:\n",
      "The old _FeatureColumn APIs are being deprecated. Please use the new FeatureColumn APIs instead.\n",
      "Train on 17000 samples\n",
      "Epoch 1/15\n",
      "17000/17000 [==============================] - 1s 30us/sample - loss: 0.5826 - mean_squared_error: 0.5826\n",
      "Epoch 2/15\n",
      "17000/17000 [==============================] - 0s 2us/sample - loss: 0.4335 - mean_squared_error: 0.4335\n",
      "Epoch 3/15\n",
      "17000/17000 [==============================] - 0s 2us/sample - loss: 0.3870 - mean_squared_error: 0.3870\n",
      "Epoch 4/15\n",
      "17000/17000 [==============================] - 0s 2us/sample - loss: 0.3714 - mean_squared_error: 0.3714\n",
      "Epoch 5/15\n",
      "17000/17000 [==============================] - 0s 2us/sample - loss: 0.3648 - mean_squared_error: 0.3648\n",
      "Epoch 6/15\n",
      "17000/17000 [==============================] - 0s 2us/sample - loss: 0.3618 - mean_squared_error: 0.3618\n",
      "Epoch 7/15\n",
      "17000/17000 [==============================] - 0s 2us/sample - loss: 0.3609 - mean_squared_error: 0.3609\n",
      "Epoch 8/15\n",
      "17000/17000 [==============================] - 0s 2us/sample - loss: 0.3603 - mean_squared_error: 0.3603\n",
      "Epoch 9/15\n",
      "17000/17000 [==============================] - 0s 2us/sample - loss: 0.3599 - mean_squared_error: 0.3599\n",
      "Epoch 10/15\n",
      "17000/17000 [==============================] - 0s 2us/sample - loss: 0.3598 - mean_squared_error: 0.3598\n",
      "Epoch 11/15\n",
      "17000/17000 [==============================] - 0s 2us/sample - loss: 0.3600 - mean_squared_error: 0.3600\n",
      "Epoch 12/15\n",
      "17000/17000 [==============================] - 0s 2us/sample - loss: 0.3599 - mean_squared_error: 0.3599\n",
      "Epoch 13/15\n",
      "17000/17000 [==============================] - 0s 2us/sample - loss: 0.3599 - mean_squared_error: 0.3599\n",
      "Epoch 14/15\n",
      "17000/17000 [==============================] - 0s 2us/sample - loss: 0.3601 - mean_squared_error: 0.3601\n",
      "Epoch 15/15\n",
      "17000/17000 [==============================] - 0s 2us/sample - loss: 0.3598 - mean_squared_error: 0.3598\n"
     ]
    },
    {
     "data": {
      "image/png": "[encoded data removed]",
      "text/plain": [
       "<Figure size 432x288 with 1 Axes>"
      ]
     },
     "metadata": {},
     "output_type": "display_data"
    },
    {
     "name": "stdout",
     "output_type": "stream",
     "text": [
      "\n",
      "Evaluating the Linear Regression Model against the test set:\n",
      "\n",
      "3000/3000 [==============================] - 0s 45us/sample - loss: 0.3950 - mean_squared_error: 0.3950\n"
     ]
    },
    {
     "data": {
      "text/plain": [
       "[0.39497969547907513, 0.3949797]"
      ]
     },
     "execution_count": 10,
     "metadata": {},
     "output_type": "execute_result"
    }
   ],
   "source": [
    "model = evaluate(df = normalized_train_df, \n",
    "                 label_name = \"median_house_value\", \n",
    "                 feature_layer = my_feature_layer, \n",
    "                 learning_rate=.01, \n",
    "                 epochs=15, \n",
    "                 batch_size=1000)\n",
    "\n",
    "# Split data into feature and target/label\n",
    "test_features = {name:np.array(value) for name, value in normalized_test_df.items()}\n",
    "test_target = np.array(test_features.pop(\"median_house_value\")) # label isolation\n",
    "\n",
    "print(\"\\nEvaluating the Linear Regression Model against the test set:\\n\")\n",
    "model.evaluate(x=test_features, y=test_target, batch_size = 1000)"
   ]
  },
  {
   "cell_type": "code",
   "execution_count": 11,
   "metadata": {},
   "outputs": [
    {
     "name": "stdout",
     "output_type": "stream",
     "text": [
      "Defined the create & train with hidden layers evaluation function.\n"
     ]
    }
   ],
   "source": [
    "# model creation function with hidden layers\n",
    "def create_model_w_hidden_layers(learning_rate, feature_layer):\n",
    "    # most simple tf.keras models are sequential.\n",
    "    model = tf.keras.models.Sequential()\n",
    "    \n",
    "    # add feature_layer to the model.\n",
    "    model.add(feature_layer)\n",
    "    \n",
    "    # Add the first hidden layer with 20 nodes\n",
    "    model.add(tf.keras.layers.Dense(units=10,\n",
    "                                    activation=\"relu\",\n",
    "                                    kernel_regularizer = tf.keras.regularizers.l1(0.003),\n",
    "                                    name=\"HiddenLayer1\"))\n",
    "    \n",
    "    # Add the second hidden layer with 12 nodes.\n",
    "    model.add(tf.keras.layers.Dense(units=6,\n",
    "                                    activation=\"relu\",\n",
    "                                    kernel_regularizer = tf.keras.regularizers.l1(0.003),\n",
    "                                    name=\"HiddenLayer2\"))\n",
    "    \n",
    "    \n",
    "    # add output layer.\n",
    "    model.add(tf.keras.layers.Dense(units=1,\n",
    "                                    name=\"Output\"))\n",
    "    \n",
    "    # Construct the layers into a model\n",
    "    # So that tf can execute.\n",
    "    model.compile(optimizer=tf.keras.optimizers.Adam(lr=learning_rate),\n",
    "                 loss=\"mean_squared_error\",\n",
    "                 metrics=[tf.keras.metrics.MeanSquaredError()])\n",
    "    \n",
    "    return model\n",
    "\n",
    "# Define evaluation function\n",
    "def evaluate_w_hidden_layers(df, label_name, feature_layer, learning_rate=.01, epochs=10, batch_size=100):\n",
    "    # create model\n",
    "    model = create_model_w_hidden_layers(learning_rate = learning_rate, \n",
    "                                         feature_layer = feature_layer)\n",
    "    # train the model\n",
    "    epochs, mse = train_model(model=model, dataset=df,\n",
    "                               epochs=epochs, \n",
    "                               batch_size=batch_size,\n",
    "                               label_name= label_name)\n",
    "    # plot the loss curve\n",
    "    plot_the_loss_curve(epochs, mse)\n",
    "    \n",
    "    return model\n",
    "\n",
    "print(\"Defined the create & train with hidden layers evaluation function.\")"
   ]
  },
  {
   "cell_type": "code",
   "execution_count": 12,
   "metadata": {
    "jupyter": {
     "source_hidden": true
    }
   },
   "outputs": [
    {
     "name": "stdout",
     "output_type": "stream",
     "text": [
      "Train on 17000 samples\n",
      "Epoch 1/20\n",
      "17000/17000 [==============================] - 1s 30us/sample - loss: 0.9151 - mean_squared_error: 0.6614\n",
      "Epoch 2/20\n",
      "17000/17000 [==============================] - 0s 2us/sample - loss: 0.5177 - mean_squared_error: 0.3896\n",
      "Epoch 3/20\n",
      "17000/17000 [==============================] - 0s 2us/sample - loss: 0.4617 - mean_squared_error: 0.3596\n",
      "Epoch 4/20\n",
      "17000/17000 [==============================] - 0s 2us/sample - loss: 0.4379 - mean_squared_error: 0.3557\n",
      "Epoch 5/20\n",
      "17000/17000 [==============================] - 0s 2us/sample - loss: 0.4254 - mean_squared_error: 0.3522\n",
      "Epoch 6/20\n",
      "17000/17000 [==============================] - 0s 2us/sample - loss: 0.4188 - mean_squared_error: 0.3514\n",
      "Epoch 7/20\n",
      "17000/17000 [==============================] - 0s 2us/sample - loss: 0.4112 - mean_squared_error: 0.3484\n",
      "Epoch 8/20\n",
      "17000/17000 [==============================] - 0s 2us/sample - loss: 0.4070 - mean_squared_error: 0.3480\n",
      "Epoch 9/20\n",
      "17000/17000 [==============================] - 0s 2us/sample - loss: 0.4054 - mean_squared_error: 0.3489\n",
      "Epoch 10/20\n",
      "17000/17000 [==============================] - 0s 2us/sample - loss: 0.3991 - mean_squared_error: 0.3459\n",
      "Epoch 11/20\n",
      "17000/17000 [==============================] - 0s 2us/sample - loss: 0.3963 - mean_squared_error: 0.3455\n",
      "Epoch 12/20\n",
      "17000/17000 [==============================] - 0s 2us/sample - loss: 0.3941 - mean_squared_error: 0.3456\n",
      "Epoch 13/20\n",
      "17000/17000 [==============================] - 0s 2us/sample - loss: 0.3929 - mean_squared_error: 0.3461\n",
      "Epoch 14/20\n",
      "17000/17000 [==============================] - 0s 2us/sample - loss: 0.3906 - mean_squared_error: 0.3453\n",
      "Epoch 15/20\n",
      "17000/17000 [==============================] - 0s 2us/sample - loss: 0.3904 - mean_squared_error: 0.3465\n",
      "Epoch 16/20\n",
      "17000/17000 [==============================] - 0s 2us/sample - loss: 0.3918 - mean_squared_error: 0.3486\n",
      "Epoch 17/20\n",
      "17000/17000 [==============================] - 0s 2us/sample - loss: 0.3899 - mean_squared_error: 0.3471\n",
      "Epoch 18/20\n",
      "17000/17000 [==============================] - 0s 2us/sample - loss: 0.3863 - mean_squared_error: 0.3445\n",
      "Epoch 19/20\n",
      "17000/17000 [==============================] - 0s 2us/sample - loss: 0.3855 - mean_squared_error: 0.3442\n",
      "Epoch 20/20\n",
      "17000/17000 [==============================] - 0s 2us/sample - loss: 0.3837 - mean_squared_error: 0.3434\n"
     ]
    },
    {
     "data": {
      "image/png": "[encoded data removed]",
      "text/plain": [
       "<Figure size 432x288 with 1 Axes>"
      ]
     },
     "metadata": {},
     "output_type": "display_data"
    },
    {
     "name": "stdout",
     "output_type": "stream",
     "text": [
      "\n",
      "Evaluating the Deep NN Model against the test set:\n",
      "\n",
      "3000/3000 [==============================] - 0s 53us/sample - loss: 0.4171 - mean_squared_error: 0.3770\n"
     ]
    },
    {
     "data": {
      "text/plain": [
       "[0.4171006381511688, 0.37698162]"
      ]
     },
     "execution_count": 12,
     "metadata": {},
     "output_type": "execute_result"
    }
   ],
   "source": [
    "model = evaluate_w_hidden_layers(df = normalized_train_df, \n",
    "                                 label_name = \"median_house_value\", \n",
    "                                 feature_layer = my_feature_layer, \n",
    "                                 learning_rate=.01, \n",
    "                                 epochs=20, batch_size=1000)\n",
    "\n",
    "# Split data into feature and target/label\n",
    "test_features = {name:np.array(value) for name, value in normalized_test_df.items()}\n",
    "test_target = np.array(test_features.pop(\"median_house_value\")) # label isolation\n",
    "\n",
    "print(\"\\nEvaluating the Deep NN Model against the test set:\\n\")\n",
    "model.evaluate(x=test_features, y=test_target, batch_size = 1000)"
   ]
  },
  {
   "cell_type": "markdown",
   "metadata": {},
   "source": [
    "##### Comparing two models:\n",
    "Since loss of the deep nn model is lower than the baseline linear regression model, the deep nn model will make better predictions than the linear regression model."
   ]
  },
  {
   "cell_type": "markdown",
   "metadata": {},
   "source": [
    "#### Optimizing Deep NN "
   ]
  },
  {
   "cell_type": "code",
   "execution_count": 13,
   "metadata": {
    "jupyter": {
     "source_hidden": true
    }
   },
   "outputs": [
    {
     "name": "stdout",
     "output_type": "stream",
     "text": [
      "Train on 17000 samples\n",
      "Epoch 1/20\n",
      "17000/17000 [==============================] - 1s 36us/sample - loss: 1.0580 - mean_squared_error: 0.8043\n",
      "Epoch 2/20\n",
      "17000/17000 [==============================] - 0s 3us/sample - loss: 0.5543 - mean_squared_error: 0.4257\n",
      "Epoch 3/20\n",
      "17000/17000 [==============================] - 0s 2us/sample - loss: 0.4765 - mean_squared_error: 0.3694\n",
      "Epoch 4/20\n",
      "17000/17000 [==============================] - 0s 2us/sample - loss: 0.4506 - mean_squared_error: 0.3607\n",
      "Epoch 5/20\n",
      "17000/17000 [==============================] - 0s 2us/sample - loss: 0.4386 - mean_squared_error: 0.3590\n",
      "Epoch 6/20\n",
      "17000/17000 [==============================] - 0s 2us/sample - loss: 0.4305 - mean_squared_error: 0.3572\n",
      "Epoch 7/20\n",
      "17000/17000 [==============================] - 0s 2us/sample - loss: 0.4240 - mean_squared_error: 0.3560\n",
      "Epoch 8/20\n",
      "17000/17000 [==============================] - 0s 2us/sample - loss: 0.4190 - mean_squared_error: 0.3551\n",
      "Epoch 9/20\n",
      "17000/17000 [==============================] - 0s 2us/sample - loss: 0.4136 - mean_squared_error: 0.3540\n",
      "Epoch 10/20\n",
      "17000/17000 [==============================] - 0s 2us/sample - loss: 0.4098 - mean_squared_error: 0.3535\n",
      "Epoch 11/20\n",
      "17000/17000 [==============================] - 0s 2us/sample - loss: 0.4057 - mean_squared_error: 0.3522\n",
      "Epoch 12/20\n",
      "17000/17000 [==============================] - 0s 2us/sample - loss: 0.4031 - mean_squared_error: 0.3531\n",
      "Epoch 13/20\n",
      "17000/17000 [==============================] - 0s 2us/sample - loss: 0.4004 - mean_squared_error: 0.3516\n",
      "Epoch 14/20\n",
      "17000/17000 [==============================] - 0s 2us/sample - loss: 0.3983 - mean_squared_error: 0.3517\n",
      "Epoch 15/20\n",
      "17000/17000 [==============================] - 0s 2us/sample - loss: 0.3956 - mean_squared_error: 0.3503\n",
      "Epoch 16/20\n",
      "17000/17000 [==============================] - 0s 2us/sample - loss: 0.3932 - mean_squared_error: 0.3493\n",
      "Epoch 17/20\n",
      "17000/17000 [==============================] - 0s 2us/sample - loss: 0.3913 - mean_squared_error: 0.3482\n",
      "Epoch 18/20\n",
      "17000/17000 [==============================] - 0s 2us/sample - loss: 0.3894 - mean_squared_error: 0.3472\n",
      "Epoch 19/20\n",
      "17000/17000 [==============================] - 0s 2us/sample - loss: 0.3896 - mean_squared_error: 0.3482\n",
      "Epoch 20/20\n",
      "17000/17000 [==============================] - 0s 2us/sample - loss: 0.3888 - mean_squared_error: 0.3478\n"
     ]
    },
    {
     "data": {
      "image/png": "[encoded data removed]",
      "text/plain": [
       "<Figure size 432x288 with 1 Axes>"
      ]
     },
     "metadata": {},
     "output_type": "display_data"
    },
    {
     "name": "stdout",
     "output_type": "stream",
     "text": [
      "\n",
      "Evaluating the Deep NN Model against the test set:\n",
      "\n",
      "3000/3000 [==============================] - 0s 54us/sample - loss: 0.4210 - mean_squared_error: 0.3802\n"
     ]
    },
    {
     "data": {
      "text/plain": [
       "[0.4209572474161784, 0.3801884]"
      ]
     },
     "execution_count": 13,
     "metadata": {},
     "output_type": "execute_result"
    }
   ],
   "source": [
    "# One Layer Results...\n",
    "model = evaluate_w_hidden_layers(df = normalized_train_df, \n",
    "                                 label_name = \"median_house_value\", \n",
    "                                 feature_layer = my_feature_layer, \n",
    "                                 learning_rate=.01, \n",
    "                                 epochs=20, batch_size=1000)\n",
    "\n",
    "# Split data into feature and target/label\n",
    "test_features = {name:np.array(value) for name, value in normalized_test_df.items()}\n",
    "test_target = np.array(test_features.pop(\"median_house_value\")) # label isolation\n",
    "\n",
    "print(\"\\nEvaluating the Deep NN Model against the test set:\\n\")\n",
    "model.evaluate(x=test_features, y=test_target, batch_size = 1000)"
   ]
  },
  {
   "cell_type": "code",
   "execution_count": 14,
   "metadata": {
    "jupyter": {
     "source_hidden": true
    }
   },
   "outputs": [
    {
     "name": "stdout",
     "output_type": "stream",
     "text": [
      "Train on 17000 samples\n",
      "Epoch 1/20\n",
      "17000/17000 [==============================] - 1s 31us/sample - loss: 1.0871 - mean_squared_error: 0.8462\n",
      "Epoch 2/20\n",
      "17000/17000 [==============================] - 0s 2us/sample - loss: 0.5787 - mean_squared_error: 0.4683\n",
      "Epoch 3/20\n",
      "17000/17000 [==============================] - 0s 2us/sample - loss: 0.4704 - mean_squared_error: 0.3772\n",
      "Epoch 4/20\n",
      "17000/17000 [==============================] - 0s 2us/sample - loss: 0.4385 - mean_squared_error: 0.3604\n",
      "Epoch 5/20\n",
      "17000/17000 [==============================] - 0s 2us/sample - loss: 0.4223 - mean_squared_error: 0.3546\n",
      "Epoch 6/20\n",
      "17000/17000 [==============================] - 0s 2us/sample - loss: 0.4142 - mean_squared_error: 0.3527\n",
      "Epoch 7/20\n",
      "17000/17000 [==============================] - 0s 2us/sample - loss: 0.4086 - mean_squared_error: 0.3511\n",
      "Epoch 8/20\n",
      "17000/17000 [==============================] - 0s 2us/sample - loss: 0.4077 - mean_squared_error: 0.3525\n",
      "Epoch 9/20\n",
      "17000/17000 [==============================] - 0s 2us/sample - loss: 0.4044 - mean_squared_error: 0.3509\n",
      "Epoch 10/20\n",
      "17000/17000 [==============================] - 0s 2us/sample - loss: 0.3988 - mean_squared_error: 0.3471\n",
      "Epoch 11/20\n",
      "17000/17000 [==============================] - 0s 2us/sample - loss: 0.3967 - mean_squared_error: 0.3467\n",
      "Epoch 12/20\n",
      "17000/17000 [==============================] - 0s 2us/sample - loss: 0.3951 - mean_squared_error: 0.3464\n",
      "Epoch 13/20\n",
      "17000/17000 [==============================] - 0s 2us/sample - loss: 0.3945 - mean_squared_error: 0.3468\n",
      "Epoch 14/20\n",
      "17000/17000 [==============================] - 0s 2us/sample - loss: 0.3909 - mean_squared_error: 0.3440\n",
      "Epoch 15/20\n",
      "17000/17000 [==============================] - 0s 2us/sample - loss: 0.3892 - mean_squared_error: 0.3437\n",
      "Epoch 16/20\n",
      "17000/17000 [==============================] - 0s 2us/sample - loss: 0.3900 - mean_squared_error: 0.3452\n",
      "Epoch 17/20\n",
      "17000/17000 [==============================] - 0s 2us/sample - loss: 0.3911 - mean_squared_error: 0.3473\n",
      "Epoch 18/20\n",
      "17000/17000 [==============================] - 0s 2us/sample - loss: 0.3884 - mean_squared_error: 0.3446\n",
      "Epoch 19/20\n",
      "17000/17000 [==============================] - 0s 2us/sample - loss: 0.3862 - mean_squared_error: 0.3434\n",
      "Epoch 20/20\n",
      "17000/17000 [==============================] - 0s 2us/sample - loss: 0.3857 - mean_squared_error: 0.3436\n"
     ]
    },
    {
     "data": {
      "image/png": "[encoded data removed]",
      "text/plain": [
       "<Figure size 432x288 with 1 Axes>"
      ]
     },
     "metadata": {},
     "output_type": "display_data"
    },
    {
     "name": "stdout",
     "output_type": "stream",
     "text": [
      "\n",
      "Evaluating the Deep NN Model against the test set:\n",
      "\n",
      "3000/3000 [==============================] - 0s 53us/sample - loss: 0.4194 - mean_squared_error: 0.3775\n"
     ]
    },
    {
     "data": {
      "text/plain": [
       "[0.4194350739320119, 0.37749022]"
      ]
     },
     "execution_count": 14,
     "metadata": {},
     "output_type": "execute_result"
    }
   ],
   "source": [
    "# 3 Layer Results\n",
    "model = evaluate_w_hidden_layers(df = normalized_train_df, \n",
    "                                 label_name = \"median_house_value\", \n",
    "                                 feature_layer = my_feature_layer, \n",
    "                                 learning_rate=.01, \n",
    "                                 epochs=20, batch_size=1000)\n",
    "\n",
    "# Split data into feature and target/label\n",
    "test_features = {name:np.array(value) for name, value in normalized_test_df.items()}\n",
    "test_target = np.array(test_features.pop(\"median_house_value\")) # label isolation\n",
    "\n",
    "print(\"\\nEvaluating the Deep NN Model against the test set:\\n\")\n",
    "model.evaluate(x=test_features, y=test_target, batch_size = 1000)"
   ]
  },
  {
   "cell_type": "markdown",
   "metadata": {},
   "source": [
    "***\n",
    "* 2 layers outperform the a layer and 3 layers, it seems 2 layers best option.\n",
    "\n",
    "***Changing the units***"
   ]
  },
  {
   "cell_type": "code",
   "execution_count": null,
   "metadata": {
    "jupyter": {
     "source_hidden": true
    }
   },
   "outputs": [],
   "source": [
    "# 1. Layer Units: 15, 2. Layers Units: 7\n",
    "model = evaluate_w_hidden_layers(df = normalized_train_df, \n",
    "                                 label_name = \"median_house_value\", \n",
    "                                 feature_layer = my_feature_layer, \n",
    "                                 learning_rate=.01, \n",
    "                                 epochs=20, batch_size=1000)\n",
    "\n",
    "# Split data into feature and target/label\n",
    "test_features = {name:np.array(value) for name, value in normalized_test_df.items()}\n",
    "test_target = np.array(test_features.pop(\"median_house_value\")) # label isolation\n",
    "\n",
    "print(\"\\nEvaluating the Deep NN Model against the test set:\\n\")\n",
    "model.evaluate(x=test_features, y=test_target, batch_size = 1000)"
   ]
  },
  {
   "cell_type": "code",
   "execution_count": null,
   "metadata": {
    "jupyter": {
     "source_hidden": true
    }
   },
   "outputs": [],
   "source": [
    "# 1. Layer Units: 10, 2. Layers Units: 12\n",
    "model = evaluate_w_hidden_layers(df = normalized_train_df, \n",
    "                                 label_name = \"median_house_value\", \n",
    "                                 feature_layer = my_feature_layer, \n",
    "                                 learning_rate=.01, \n",
    "                                 epochs=20, batch_size=1000)\n",
    "\n",
    "# Split data into feature and target/label\n",
    "test_features = {name:np.array(value) for name, value in normalized_test_df.items()}\n",
    "test_target = np.array(test_features.pop(\"median_house_value\")) # label isolation\n",
    "\n",
    "print(\"\\nEvaluating the Deep NN Model against the test set:\\n\")\n",
    "model.evaluate(x=test_features, y=test_target, batch_size = 1000)"
   ]
  },
  {
   "cell_type": "code",
   "execution_count": null,
   "metadata": {
    "jupyter": {
     "source_hidden": true
    }
   },
   "outputs": [],
   "source": [
    "# 1. Layer Units: 10, 2. Layers Units: 6\n",
    "model = evaluate_w_hidden_layers(df = normalized_train_df, \n",
    "                                 label_name = \"median_house_value\", \n",
    "                                 feature_layer = my_feature_layer, \n",
    "                                 learning_rate=.01, \n",
    "                                 epochs=20, batch_size=1000)\n",
    "\n",
    "# Split data into feature and target/label\n",
    "test_features = {name:np.array(value) for name, value in normalized_test_df.items()}\n",
    "test_target = np.array(test_features.pop(\"median_house_value\")) # label isolation\n",
    "\n",
    "print(\"\\nEvaluating the Deep NN Model against the test set:\\n\")\n",
    "model.evaluate(x=test_features, y=test_target, batch_size = 1000)"
   ]
  },
  {
   "cell_type": "markdown",
   "metadata": {},
   "source": [
    "***\n",
    "* Setting the topography as follows produced reasonably good results.\n",
    " - 15 nodes in the first layer\n",
    " - 7 nodes in the second layer"
   ]
  },
  {
   "cell_type": "markdown",
   "metadata": {},
   "source": [
    "#### **Regularize the Deep NN**\n",
    "The loss of the test set is much higher than the loss of the train set. In other wordsi the deep nn is overfitting the train set. To reduce overfitting, we'll regularize the model by considering following options:\n",
    "- L1 Regularization\n",
    "- L2 Regularization\n",
    "- Dropout Regularization"
   ]
  },
  {
   "cell_type": "code",
   "execution_count": null,
   "metadata": {},
   "outputs": [],
   "source": [
    "# l2 - 0.03\n",
    "model = evaluate_w_hidden_layers(df = normalized_train_df, \n",
    "                                 label_name = \"median_house_value\", \n",
    "                                 feature_layer = my_feature_layer, \n",
    "                                 learning_rate=.01, \n",
    "                                 epochs=20, batch_size=1000)\n",
    "\n",
    "# Split data into feature and target/label\n",
    "test_features = {name:np.array(value) for name, value in normalized_test_df.items()}\n",
    "test_target = np.array(test_features.pop(\"median_house_value\")) # label isolation\n",
    "\n",
    "print(\"\\nEvaluating the Deep NN Model against the test set:\\n\")\n",
    "model.evaluate(x=test_features, y=test_target, batch_size = 1000)"
   ]
  },
  {
   "cell_type": "code",
   "execution_count": null,
   "metadata": {},
   "outputs": [],
   "source": [
    "# l1 - 0.03\n",
    "model = evaluate_w_hidden_layers(df = normalized_train_df, \n",
    "                                 label_name = \"median_house_value\", \n",
    "                                 feature_layer = my_feature_layer, \n",
    "                                 learning_rate=.007, \n",
    "                                 epochs=120, batch_size=1000)\n",
    "\n",
    "# Split data into feature and target/label\n",
    "test_features = {name:np.array(value) for name, value in normalized_test_df.items()}\n",
    "test_target = np.array(test_features.pop(\"median_house_value\")) # label isolation\n",
    "\n",
    "print(\"\\nEvaluating the Deep NN Model against the test set:\\n\")\n",
    "model.evaluate(x=test_features, y=test_target, batch_size = 1000)"
   ]
  },
  {
   "cell_type": "markdown",
   "metadata": {},
   "source": [
    "***"
   ]
  }
 ],
 "metadata": {
  "kernelspec": {
   "display_name": "Python 3",
   "language": "python",
   "name": "python3"
  },
  "language_info": {
   "codemirror_mode": {
    "name": "ipython",
    "version": 3
   },
   "file_extension": ".py",
   "mimetype": "text/x-python",
   "name": "python",
   "nbconvert_exporter": "python",
   "pygments_lexer": "ipython3",
   "version": "3.7.6"
  }
 },
 "nbformat": 4,
 "nbformat_minor": 4
}
