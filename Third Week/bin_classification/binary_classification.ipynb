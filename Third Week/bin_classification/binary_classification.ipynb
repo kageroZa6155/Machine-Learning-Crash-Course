{
 "cells": [
  {
   "cell_type": "markdown",
   "metadata": {},
   "source": [
    "#### Imports "
   ]
  },
  {
   "cell_type": "code",
   "execution_count": 1,
   "metadata": {},
   "outputs": [],
   "source": [
    "import numpy as np\n",
    "import pandas as pd\n",
    "import tensorflow as tf\n",
    "from tensorflow import feature_column\n",
    "from tensorflow.keras import layers\n",
    "\n",
    "\n",
    "from matplotlib import pyplot as plt\n",
    "import seaborn as sns\n",
    "\n",
    "sns.set()\n",
    "\n",
    "\n",
    "# The following lines adjust the granularity of reporting.\n",
    "pd.options.display.max_rows = 10\n",
    "pd.options.display.float_format = \"{:.1f}\".format"
   ]
  },
  {
   "cell_type": "markdown",
   "metadata": {},
   "source": [
    "#### Load Dataset"
   ]
  },
  {
   "cell_type": "code",
   "execution_count": 2,
   "metadata": {},
   "outputs": [],
   "source": [
    "train_df = pd.read_csv(\"https://download.mlcc.google.com/mledu-datasets/california_housing_train.csv\")\n",
    "test_df = pd.read_csv(\"https://download.mlcc.google.com/mledu-datasets/california_housing_test.csv\")\n",
    "train_df = train_df.reindex(np.random.permutation(train_df.index)) # shuffle the training set"
   ]
  },
  {
   "cell_type": "code",
   "execution_count": 3,
   "metadata": {},
   "outputs": [
    {
     "data": {
      "text/html": [
       "<div>\n",
       "<style scoped>\n",
       "    .dataframe tbody tr th:only-of-type {\n",
       "        vertical-align: middle;\n",
       "    }\n",
       "\n",
       "    .dataframe tbody tr th {\n",
       "        vertical-align: top;\n",
       "    }\n",
       "\n",
       "    .dataframe thead th {\n",
       "        text-align: right;\n",
       "    }\n",
       "</style>\n",
       "<table border=\"1\" class=\"dataframe\">\n",
       "  <thead>\n",
       "    <tr style=\"text-align: right;\">\n",
       "      <th></th>\n",
       "      <th>longitude</th>\n",
       "      <th>latitude</th>\n",
       "      <th>housing_median_age</th>\n",
       "      <th>total_rooms</th>\n",
       "      <th>total_bedrooms</th>\n",
       "      <th>population</th>\n",
       "      <th>households</th>\n",
       "      <th>median_income</th>\n",
       "      <th>median_house_value</th>\n",
       "    </tr>\n",
       "  </thead>\n",
       "  <tbody>\n",
       "    <tr>\n",
       "      <th>511</th>\n",
       "      <td>-117.0</td>\n",
       "      <td>32.7</td>\n",
       "      <td>15.0</td>\n",
       "      <td>825.0</td>\n",
       "      <td>130.0</td>\n",
       "      <td>334.0</td>\n",
       "      <td>131.0</td>\n",
       "      <td>4.0</td>\n",
       "      <td>169500.0</td>\n",
       "    </tr>\n",
       "    <tr>\n",
       "      <th>2239</th>\n",
       "      <td>-117.4</td>\n",
       "      <td>33.8</td>\n",
       "      <td>8.0</td>\n",
       "      <td>1954.0</td>\n",
       "      <td>330.0</td>\n",
       "      <td>973.0</td>\n",
       "      <td>321.0</td>\n",
       "      <td>4.5</td>\n",
       "      <td>249100.0</td>\n",
       "    </tr>\n",
       "    <tr>\n",
       "      <th>11553</th>\n",
       "      <td>-121.3</td>\n",
       "      <td>38.0</td>\n",
       "      <td>26.0</td>\n",
       "      <td>378.0</td>\n",
       "      <td>75.0</td>\n",
       "      <td>164.0</td>\n",
       "      <td>65.0</td>\n",
       "      <td>3.4</td>\n",
       "      <td>82800.0</td>\n",
       "    </tr>\n",
       "    <tr>\n",
       "      <th>1907</th>\n",
       "      <td>-117.3</td>\n",
       "      <td>34.1</td>\n",
       "      <td>42.0</td>\n",
       "      <td>1811.0</td>\n",
       "      <td>345.0</td>\n",
       "      <td>856.0</td>\n",
       "      <td>352.0</td>\n",
       "      <td>3.0</td>\n",
       "      <td>97000.0</td>\n",
       "    </tr>\n",
       "    <tr>\n",
       "      <th>16218</th>\n",
       "      <td>-122.5</td>\n",
       "      <td>37.8</td>\n",
       "      <td>52.0</td>\n",
       "      <td>2556.0</td>\n",
       "      <td>595.0</td>\n",
       "      <td>1202.0</td>\n",
       "      <td>568.0</td>\n",
       "      <td>3.9</td>\n",
       "      <td>348500.0</td>\n",
       "    </tr>\n",
       "  </tbody>\n",
       "</table>\n",
       "</div>"
      ],
      "text/plain": [
       "       longitude  latitude  housing_median_age  total_rooms  total_bedrooms  \\\n",
       "511       -117.0      32.7                15.0        825.0           130.0   \n",
       "2239      -117.4      33.8                 8.0       1954.0           330.0   \n",
       "11553     -121.3      38.0                26.0        378.0            75.0   \n",
       "1907      -117.3      34.1                42.0       1811.0           345.0   \n",
       "16218     -122.5      37.8                52.0       2556.0           595.0   \n",
       "\n",
       "       population  households  median_income  median_house_value  \n",
       "511         334.0       131.0            4.0            169500.0  \n",
       "2239        973.0       321.0            4.5            249100.0  \n",
       "11553       164.0        65.0            3.4             82800.0  \n",
       "1907        856.0       352.0            3.0             97000.0  \n",
       "16218      1202.0       568.0            3.9            348500.0  "
      ]
     },
     "execution_count": 3,
     "metadata": {},
     "output_type": "execute_result"
    }
   ],
   "source": [
    "train_df.head()"
   ]
  },
  {
   "cell_type": "markdown",
   "metadata": {},
   "source": [
    "#### Normalize Values\n",
    "Z-Score: $z = \\frac{X-\\mu}{\\sigma}$"
   ]
  },
  {
   "cell_type": "code",
   "execution_count": 11,
   "metadata": {},
   "outputs": [
    {
     "data": {
      "text/html": [
       "<div>\n",
       "<style scoped>\n",
       "    .dataframe tbody tr th:only-of-type {\n",
       "        vertical-align: middle;\n",
       "    }\n",
       "\n",
       "    .dataframe tbody tr th {\n",
       "        vertical-align: top;\n",
       "    }\n",
       "\n",
       "    .dataframe thead th {\n",
       "        text-align: right;\n",
       "    }\n",
       "</style>\n",
       "<table border=\"1\" class=\"dataframe\">\n",
       "  <thead>\n",
       "    <tr style=\"text-align: right;\">\n",
       "      <th></th>\n",
       "      <th>longitude</th>\n",
       "      <th>latitude</th>\n",
       "      <th>housing_median_age</th>\n",
       "      <th>total_rooms</th>\n",
       "      <th>total_bedrooms</th>\n",
       "      <th>population</th>\n",
       "      <th>households</th>\n",
       "      <th>median_income</th>\n",
       "      <th>median_house_value</th>\n",
       "    </tr>\n",
       "  </thead>\n",
       "  <tbody>\n",
       "    <tr>\n",
       "      <th>511</th>\n",
       "      <td>1.3</td>\n",
       "      <td>-1.4</td>\n",
       "      <td>-1.1</td>\n",
       "      <td>-0.8</td>\n",
       "      <td>-1.0</td>\n",
       "      <td>-1.0</td>\n",
       "      <td>-1.0</td>\n",
       "      <td>0.1</td>\n",
       "      <td>-0.3</td>\n",
       "    </tr>\n",
       "    <tr>\n",
       "      <th>2239</th>\n",
       "      <td>1.1</td>\n",
       "      <td>-0.9</td>\n",
       "      <td>-1.6</td>\n",
       "      <td>-0.3</td>\n",
       "      <td>-0.5</td>\n",
       "      <td>-0.4</td>\n",
       "      <td>-0.5</td>\n",
       "      <td>0.3</td>\n",
       "      <td>0.4</td>\n",
       "    </tr>\n",
       "    <tr>\n",
       "      <th>11553</th>\n",
       "      <td>-0.9</td>\n",
       "      <td>1.1</td>\n",
       "      <td>-0.2</td>\n",
       "      <td>-1.0</td>\n",
       "      <td>-1.1</td>\n",
       "      <td>-1.1</td>\n",
       "      <td>-1.1</td>\n",
       "      <td>-0.2</td>\n",
       "      <td>-1.1</td>\n",
       "    </tr>\n",
       "    <tr>\n",
       "      <th>1907</th>\n",
       "      <td>1.1</td>\n",
       "      <td>-0.7</td>\n",
       "      <td>1.1</td>\n",
       "      <td>-0.4</td>\n",
       "      <td>-0.5</td>\n",
       "      <td>-0.5</td>\n",
       "      <td>-0.4</td>\n",
       "      <td>-0.5</td>\n",
       "      <td>-1.0</td>\n",
       "    </tr>\n",
       "    <tr>\n",
       "      <th>16218</th>\n",
       "      <td>-1.5</td>\n",
       "      <td>1.0</td>\n",
       "      <td>1.9</td>\n",
       "      <td>-0.0</td>\n",
       "      <td>0.1</td>\n",
       "      <td>-0.2</td>\n",
       "      <td>0.2</td>\n",
       "      <td>0.0</td>\n",
       "      <td>1.2</td>\n",
       "    </tr>\n",
       "  </tbody>\n",
       "</table>\n",
       "</div>"
      ],
      "text/plain": [
       "       longitude  latitude  housing_median_age  total_rooms  total_bedrooms  \\\n",
       "511          1.3      -1.4                -1.1         -0.8            -1.0   \n",
       "2239         1.1      -0.9                -1.6         -0.3            -0.5   \n",
       "11553       -0.9       1.1                -0.2         -1.0            -1.1   \n",
       "1907         1.1      -0.7                 1.1         -0.4            -0.5   \n",
       "16218       -1.5       1.0                 1.9         -0.0             0.1   \n",
       "\n",
       "       population  households  median_income  median_house_value  \n",
       "511          -1.0        -1.0            0.1                -0.3  \n",
       "2239         -0.4        -0.5            0.3                 0.4  \n",
       "11553        -1.1        -1.1           -0.2                -1.1  \n",
       "1907         -0.5        -0.4           -0.5                -1.0  \n",
       "16218        -0.2         0.2            0.0                 1.2  "
      ]
     },
     "execution_count": 11,
     "metadata": {},
     "output_type": "execute_result"
    }
   ],
   "source": [
    "# Normalize train set\n",
    "mean_train = train_df.mean()\n",
    "std_train = train_df.std()\n",
    "norm_train_df = (train_df-mean_train) / std_train\n",
    "\n",
    "norm_train_df.head()"
   ]
  },
  {
   "cell_type": "code",
   "execution_count": 12,
   "metadata": {},
   "outputs": [
    {
     "data": {
      "text/html": [
       "<div>\n",
       "<style scoped>\n",
       "    .dataframe tbody tr th:only-of-type {\n",
       "        vertical-align: middle;\n",
       "    }\n",
       "\n",
       "    .dataframe tbody tr th {\n",
       "        vertical-align: top;\n",
       "    }\n",
       "\n",
       "    .dataframe thead th {\n",
       "        text-align: right;\n",
       "    }\n",
       "</style>\n",
       "<table border=\"1\" class=\"dataframe\">\n",
       "  <thead>\n",
       "    <tr style=\"text-align: right;\">\n",
       "      <th></th>\n",
       "      <th>longitude</th>\n",
       "      <th>latitude</th>\n",
       "      <th>housing_median_age</th>\n",
       "      <th>total_rooms</th>\n",
       "      <th>total_bedrooms</th>\n",
       "      <th>population</th>\n",
       "      <th>households</th>\n",
       "      <th>median_income</th>\n",
       "      <th>median_house_value</th>\n",
       "    </tr>\n",
       "  </thead>\n",
       "  <tbody>\n",
       "    <tr>\n",
       "      <th>0</th>\n",
       "      <td>-1.2</td>\n",
       "      <td>0.8</td>\n",
       "      <td>-0.1</td>\n",
       "      <td>0.6</td>\n",
       "      <td>0.3</td>\n",
       "      <td>0.1</td>\n",
       "      <td>0.3</td>\n",
       "      <td>1.5</td>\n",
       "      <td>1.2</td>\n",
       "    </tr>\n",
       "    <tr>\n",
       "      <th>1</th>\n",
       "      <td>0.6</td>\n",
       "      <td>-0.6</td>\n",
       "      <td>1.1</td>\n",
       "      <td>-0.5</td>\n",
       "      <td>-0.5</td>\n",
       "      <td>-0.6</td>\n",
       "      <td>-0.6</td>\n",
       "      <td>-0.1</td>\n",
       "      <td>-0.3</td>\n",
       "    </tr>\n",
       "    <tr>\n",
       "      <th>2</th>\n",
       "      <td>0.9</td>\n",
       "      <td>-0.9</td>\n",
       "      <td>-0.1</td>\n",
       "      <td>0.5</td>\n",
       "      <td>-0.1</td>\n",
       "      <td>0.1</td>\n",
       "      <td>0.0</td>\n",
       "      <td>1.1</td>\n",
       "      <td>0.6</td>\n",
       "    </tr>\n",
       "    <tr>\n",
       "      <th>3</th>\n",
       "      <td>0.6</td>\n",
       "      <td>-0.9</td>\n",
       "      <td>-0.1</td>\n",
       "      <td>-1.2</td>\n",
       "      <td>-1.2</td>\n",
       "      <td>-1.3</td>\n",
       "      <td>-1.3</td>\n",
       "      <td>1.3</td>\n",
       "      <td>1.1</td>\n",
       "    </tr>\n",
       "    <tr>\n",
       "      <th>4</th>\n",
       "      <td>-0.0</td>\n",
       "      <td>0.3</td>\n",
       "      <td>-0.8</td>\n",
       "      <td>-0.6</td>\n",
       "      <td>-0.7</td>\n",
       "      <td>-0.5</td>\n",
       "      <td>-0.7</td>\n",
       "      <td>-0.5</td>\n",
       "      <td>-1.1</td>\n",
       "    </tr>\n",
       "  </tbody>\n",
       "</table>\n",
       "</div>"
      ],
      "text/plain": [
       "   longitude  latitude  housing_median_age  total_rooms  total_bedrooms  \\\n",
       "0       -1.2       0.8                -0.1          0.6             0.3   \n",
       "1        0.6      -0.6                 1.1         -0.5            -0.5   \n",
       "2        0.9      -0.9                -0.1          0.5            -0.1   \n",
       "3        0.6      -0.9                -0.1         -1.2            -1.2   \n",
       "4       -0.0       0.3                -0.8         -0.6            -0.7   \n",
       "\n",
       "   population  households  median_income  median_house_value  \n",
       "0         0.1         0.3            1.5                 1.2  \n",
       "1        -0.6        -0.6           -0.1                -0.3  \n",
       "2         0.1         0.0            1.1                 0.6  \n",
       "3        -1.3        -1.3            1.3                 1.1  \n",
       "4        -0.5        -0.7           -0.5                -1.1  "
      ]
     },
     "execution_count": 12,
     "metadata": {},
     "output_type": "execute_result"
    }
   ],
   "source": [
    "# Normalize test set\n",
    "mean_test = test_df.mean()\n",
    "std_test = test_df.std()\n",
    "norm_test_df = (test_df-mean_test) / std_test\n",
    "\n",
    "norm_test_df.head()"
   ]
  },
  {
   "cell_type": "markdown",
   "metadata": {},
   "source": [
    "#### Creating Binary Classes"
   ]
  },
  {
   "cell_type": "code",
   "execution_count": 19,
   "metadata": {},
   "outputs": [
    {
     "data": {
      "text/html": [
       "<div>\n",
       "<style scoped>\n",
       "    .dataframe tbody tr th:only-of-type {\n",
       "        vertical-align: middle;\n",
       "    }\n",
       "\n",
       "    .dataframe tbody tr th {\n",
       "        vertical-align: top;\n",
       "    }\n",
       "\n",
       "    .dataframe thead th {\n",
       "        text-align: right;\n",
       "    }\n",
       "</style>\n",
       "<table border=\"1\" class=\"dataframe\">\n",
       "  <thead>\n",
       "    <tr style=\"text-align: right;\">\n",
       "      <th></th>\n",
       "      <th>longitude</th>\n",
       "      <th>latitude</th>\n",
       "      <th>housing_median_age</th>\n",
       "      <th>total_rooms</th>\n",
       "      <th>total_bedrooms</th>\n",
       "      <th>population</th>\n",
       "      <th>households</th>\n",
       "      <th>median_income</th>\n",
       "      <th>median_house_value</th>\n",
       "      <th>median_house_value_is_high</th>\n",
       "    </tr>\n",
       "  </thead>\n",
       "  <tbody>\n",
       "    <tr>\n",
       "      <th>511</th>\n",
       "      <td>1.3</td>\n",
       "      <td>-1.4</td>\n",
       "      <td>-1.1</td>\n",
       "      <td>-0.8</td>\n",
       "      <td>-1.0</td>\n",
       "      <td>-1.0</td>\n",
       "      <td>-1.0</td>\n",
       "      <td>0.1</td>\n",
       "      <td>-0.3</td>\n",
       "      <td>0</td>\n",
       "    </tr>\n",
       "    <tr>\n",
       "      <th>2239</th>\n",
       "      <td>1.1</td>\n",
       "      <td>-0.9</td>\n",
       "      <td>-1.6</td>\n",
       "      <td>-0.3</td>\n",
       "      <td>-0.5</td>\n",
       "      <td>-0.4</td>\n",
       "      <td>-0.5</td>\n",
       "      <td>0.3</td>\n",
       "      <td>0.4</td>\n",
       "      <td>0</td>\n",
       "    </tr>\n",
       "    <tr>\n",
       "      <th>11553</th>\n",
       "      <td>-0.9</td>\n",
       "      <td>1.1</td>\n",
       "      <td>-0.2</td>\n",
       "      <td>-1.0</td>\n",
       "      <td>-1.1</td>\n",
       "      <td>-1.1</td>\n",
       "      <td>-1.1</td>\n",
       "      <td>-0.2</td>\n",
       "      <td>-1.1</td>\n",
       "      <td>0</td>\n",
       "    </tr>\n",
       "    <tr>\n",
       "      <th>1907</th>\n",
       "      <td>1.1</td>\n",
       "      <td>-0.7</td>\n",
       "      <td>1.1</td>\n",
       "      <td>-0.4</td>\n",
       "      <td>-0.5</td>\n",
       "      <td>-0.5</td>\n",
       "      <td>-0.4</td>\n",
       "      <td>-0.5</td>\n",
       "      <td>-1.0</td>\n",
       "      <td>0</td>\n",
       "    </tr>\n",
       "    <tr>\n",
       "      <th>16218</th>\n",
       "      <td>-1.5</td>\n",
       "      <td>1.0</td>\n",
       "      <td>1.9</td>\n",
       "      <td>-0.0</td>\n",
       "      <td>0.1</td>\n",
       "      <td>-0.2</td>\n",
       "      <td>0.2</td>\n",
       "      <td>0.0</td>\n",
       "      <td>1.2</td>\n",
       "      <td>1</td>\n",
       "    </tr>\n",
       "  </tbody>\n",
       "</table>\n",
       "</div>"
      ],
      "text/plain": [
       "       longitude  latitude  housing_median_age  total_rooms  total_bedrooms  \\\n",
       "511          1.3      -1.4                -1.1         -0.8            -1.0   \n",
       "2239         1.1      -0.9                -1.6         -0.3            -0.5   \n",
       "11553       -0.9       1.1                -0.2         -1.0            -1.1   \n",
       "1907         1.1      -0.7                 1.1         -0.4            -0.5   \n",
       "16218       -1.5       1.0                 1.9         -0.0             0.1   \n",
       "\n",
       "       population  households  median_income  median_house_value  \\\n",
       "511          -1.0        -1.0            0.1                -0.3   \n",
       "2239         -0.4        -0.5            0.3                 0.4   \n",
       "11553        -1.1        -1.1           -0.2                -1.1   \n",
       "1907         -0.5        -0.4           -0.5                -1.0   \n",
       "16218        -0.2         0.2            0.0                 1.2   \n",
       "\n",
       "       median_house_value_is_high  \n",
       "511                             0  \n",
       "2239                            0  \n",
       "11553                           0  \n",
       "1907                            0  \n",
       "16218                           1  "
      ]
     },
     "execution_count": 19,
     "metadata": {},
     "output_type": "execute_result"
    }
   ],
   "source": [
    "threshold = train_df.median_house_value.quantile(q = .75)\n",
    "norm_train_df[\"median_house_value_is_high\"] = (train_df.median_house_value > threshold).astype(int)\n",
    "norm_test_df[\"median_house_value_is_high\"] = (test_df.median_house_value > threshold).astype(int)\n",
    "\n",
    "norm_train_df.head()"
   ]
  },
  {
   "cell_type": "markdown",
   "metadata": {},
   "source": [
    "#### Represent Features in Feature Column "
   ]
  },
  {
   "cell_type": "code",
   "execution_count": 20,
   "metadata": {},
   "outputs": [
    {
     "data": {
      "text/plain": [
       "<tf.Tensor: shape=(17000, 2), dtype=float32, numpy=\n",
       "array([[ 0.08150374, -0.83427   ],\n",
       "       [ 0.31649494, -0.3163675 ],\n",
       "       [-0.24781935, -1.0393208 ],\n",
       "       ...,\n",
       "       [ 0.33462763, -0.8429858 ],\n",
       "       [-0.18461698, -0.67784417],\n",
       "       [-0.95436513, -0.04250764]], dtype=float32)>"
      ]
     },
     "execution_count": 20,
     "metadata": {},
     "output_type": "execute_result"
    }
   ],
   "source": [
    "feature_columns = list()\n",
    "\n",
    "med_income = tf.feature_column.numeric_column(\"median_income\")\n",
    "feature_columns.append(med_income)\n",
    "\n",
    "tot_rooms = tf.feature_column.numeric_column(\"total_rooms\")\n",
    "feature_columns.append(tot_rooms)\n",
    "\n",
    "##\n",
    "# Convert the feature columns into feature layer\n",
    "# that will be fed into the model later.\n",
    "##\n",
    "feature_layer = layers.DenseFeatures(feature_columns)\n",
    "\n",
    "feature_layer(dict(norm_train_df))"
   ]
  },
  {
   "cell_type": "markdown",
   "metadata": {},
   "source": [
    "#### Define Model Functions "
   ]
  },
  {
   "cell_type": "code",
   "execution_count": 23,
   "metadata": {},
   "outputs": [
    {
     "name": "stdout",
     "output_type": "stream",
     "text": [
      "Defined the model functions.\n"
     ]
    }
   ],
   "source": [
    "def create_model(my_learning_rate, feature_layer, my_metrics):\n",
    "    \"\"\"Create and compile a simple classification model.\"\"\"\n",
    "    # Most simple tf.keras models are sequential.\n",
    "    model = tf.keras.models.Sequential()\n",
    "\n",
    "    # Add the feature layer (the list of features and how they are represented)\n",
    "    # to the model.\n",
    "    model.add(feature_layer)\n",
    "\n",
    "    # Funnel the regression value through a sigmoid function.\n",
    "    model.add(tf.keras.layers.Dense(units=1, input_shape=(1,),\n",
    "                                  activation=tf.sigmoid),)\n",
    "\n",
    "    # Call the compile method to construct the layers into a model that\n",
    "    # TensorFlow can execute.  Notice that we're using a different loss\n",
    "    # function for classification than for regression.    \n",
    "    model.compile(optimizer=tf.keras.optimizers.RMSprop(lr=my_learning_rate),                                                   \n",
    "                loss=tf.keras.losses.BinaryCrossentropy(),\n",
    "                metrics=my_metrics)\n",
    "\n",
    "    return model        \n",
    "\n",
    "\n",
    "def train_model(model, dataset, epochs, label_name, batch_size=None, shuffle=True):\n",
    "    \"\"\"Feed a dataset into the model in order to train it.\"\"\"\n",
    "\n",
    "    # The x parameter of tf.keras.Model.fit can be a list of arrays, where\n",
    "    # each array contains the data for one feature.  Here, we're passing\n",
    "    # every column in the dataset. Note that the feature_layer will filter\n",
    "    # away most of those columns, leaving only the desired columns and their\n",
    "    # representations as features.\n",
    "    features = {name:np.array(value) for name, value in dataset.items()}\n",
    "    label = np.array(features.pop(label_name)) \n",
    "    history = model.fit(x=features, y=label, batch_size=batch_size,\n",
    "                      epochs=epochs, shuffle=shuffle)\n",
    "  \n",
    "    # The list of epochs is stored separately from the rest of history.\n",
    "    epochs = history.epoch\n",
    "\n",
    "    # Isolate the classification metric for each epoch.\n",
    "    hist = pd.DataFrame(history.history)\n",
    "\n",
    "    return epochs, hist  \n",
    "\n",
    "print(\"Defined the model functions.\")   "
   ]
  },
  {
   "cell_type": "markdown",
   "metadata": {},
   "source": [
    "#### Define Plotting Function "
   ]
  },
  {
   "cell_type": "code",
   "execution_count": 28,
   "metadata": {},
   "outputs": [
    {
     "name": "stdout",
     "output_type": "stream",
     "text": [
      "Defined the plot_curve function.\n"
     ]
    }
   ],
   "source": [
    "def plot_curve(epochs, hist, list_of_metrics):\n",
    "    \"\"\"Plot a curve of one or more classification metrics vs. epoch.\"\"\"  \n",
    "    # list_of_metrics should be one of the names shown in:\n",
    "    # https://www.tensorflow.org/tutorials/structured_data/imbalanced_data#define_the_model_and_metrics  \n",
    "\n",
    "    plt.figure(figsize=(12,7))\n",
    "    plt.xlabel(\"Epoch\")\n",
    "    plt.ylabel(\"Value\")\n",
    "\n",
    "    for m in list_of_metrics:\n",
    "        x = hist[m]\n",
    "        plt.plot(epochs[1:], x[1:], label=m)\n",
    "\n",
    "    plt.legend()\n",
    "\n",
    "print(\"Defined the plot_curve function.\")"
   ]
  },
  {
   "cell_type": "markdown",
   "metadata": {},
   "source": [
    "#### First Invoke"
   ]
  },
  {
   "cell_type": "code",
   "execution_count": 32,
   "metadata": {},
   "outputs": [],
   "source": [
    "def evaluate_model(df, label_name = None, learning_rate = 0.001, epochs = 10, batch_size = 100, metrics = None, list_of_metrics_to_plot = []):\n",
    "    # Establish the model's topography.\n",
    "    my_model = create_model(learning_rate, feature_layer, metrics)\n",
    "\n",
    "    # Train the model on the training set.\n",
    "    epochs, hist = train_model(my_model, df, epochs, label_name, batch_size)\n",
    "\n",
    "    plot_curve(epochs, hist, list_of_metrics_to_plot)\n",
    "    \n",
    "    return my_model"
   ]
  },
  {
   "cell_type": "code",
   "execution_count": 33,
   "metadata": {},
   "outputs": [
    {
     "name": "stdout",
     "output_type": "stream",
     "text": [
      "Train on 17000 samples\n",
      "Epoch 1/20\n",
      "17000/17000 [==============================] - 0s 27us/sample - loss: 0.6706 - accuracy: 0.4167\n",
      "Epoch 2/20\n",
      "17000/17000 [==============================] - 0s 12us/sample - loss: 0.5997 - accuracy: 0.5377\n",
      "Epoch 3/20\n",
      "17000/17000 [==============================] - 0s 11us/sample - loss: 0.5410 - accuracy: 0.6339\n",
      "Epoch 4/20\n",
      "17000/17000 [==============================] - 0s 12us/sample - loss: 0.4953 - accuracy: 0.7038\n",
      "Epoch 5/20\n",
      "17000/17000 [==============================] - ETA: 0s - loss: 0.4617 - accuracy: 0.74 - 0s 11us/sample - loss: 0.4603 - accuracy: 0.7484\n",
      "Epoch 6/20\n",
      "17000/17000 [==============================] - 0s 11us/sample - loss: 0.4357 - accuracy: 0.7751\n",
      "Epoch 7/20\n",
      "17000/17000 [==============================] - 0s 12us/sample - loss: 0.4193 - accuracy: 0.7928\n",
      "Epoch 8/20\n",
      "17000/17000 [==============================] - 0s 11us/sample - loss: 0.4092 - accuracy: 0.8011\n",
      "Epoch 9/20\n",
      "17000/17000 [==============================] - 0s 12us/sample - loss: 0.4035 - accuracy: 0.8049\n",
      "Epoch 10/20\n",
      "17000/17000 [==============================] - 0s 12us/sample - loss: 0.4003 - accuracy: 0.8071\n",
      "Epoch 11/20\n",
      "17000/17000 [==============================] - 0s 14us/sample - loss: 0.3985 - accuracy: 0.8071\n",
      "Epoch 12/20\n",
      "17000/17000 [==============================] - 0s 15us/sample - loss: 0.3976 - accuracy: 0.8086\n",
      "Epoch 13/20\n",
      "17000/17000 [==============================] - 0s 13us/sample - loss: 0.3971 - accuracy: 0.8083\n",
      "Epoch 14/20\n",
      "17000/17000 [==============================] - 0s 11us/sample - loss: 0.3969 - accuracy: 0.8085\n",
      "Epoch 15/20\n",
      "17000/17000 [==============================] - 0s 12us/sample - loss: 0.3968 - accuracy: 0.8084\n",
      "Epoch 16/20\n",
      "17000/17000 [==============================] - 0s 11us/sample - loss: 0.3967 - accuracy: 0.8091\n",
      "Epoch 17/20\n",
      "17000/17000 [==============================] - 0s 12us/sample - loss: 0.3966 - accuracy: 0.8086s - loss: 0.4113 - accuracy: \n",
      "Epoch 18/20\n",
      "17000/17000 [==============================] - 0s 11us/sample - loss: 0.3966 - accuracy: 0.8095\n",
      "Epoch 19/20\n",
      "17000/17000 [==============================] - 0s 12us/sample - loss: 0.3966 - accuracy: 0.8098\n",
      "Epoch 20/20\n",
      "17000/17000 [==============================] - 0s 11us/sample - loss: 0.3966 - accuracy: 0.8092\n"
     ]
    },
    {
     "data": {
      "image/png": "[encoded data removed]",
      "text/plain": [
       "<Figure size 864x504 with 1 Axes>"
      ]
     },
     "metadata": {},
     "output_type": "display_data"
    }
   ],
   "source": [
    "# The following variables are the hyperparameters.\n",
    "learning_rate = 0.001\n",
    "epochs = 20\n",
    "batch_size = 100\n",
    "label_name = \"median_house_value_is_high\"\n",
    "classification_threshold = 0.35\n",
    "\n",
    "# Establish the metrics the model will measure.\n",
    "metrics = [\n",
    "           tf.keras.metrics.BinaryAccuracy(name='accuracy', \n",
    "                                           threshold=classification_threshold),\n",
    "          ]\n",
    "\n",
    "my_model = evaluate_model(norm_train_df, label_name, learning_rate, epochs, batch_size, metrics, [\"accuracy\"])"
   ]
  },
  {
   "cell_type": "markdown",
   "metadata": {},
   "source": [
    "#### Testing Our Model"
   ]
  },
  {
   "cell_type": "code",
   "execution_count": 34,
   "metadata": {},
   "outputs": [
    {
     "name": "stdout",
     "output_type": "stream",
     "text": [
      "3000/3000 [==============================] - 0s 38us/sample - loss: 0.4068 - accuracy: 0.8013\n"
     ]
    },
    {
     "data": {
      "text/plain": [
       "[0.4068253149588903, 0.8013333]"
      ]
     },
     "execution_count": 34,
     "metadata": {},
     "output_type": "execute_result"
    }
   ],
   "source": [
    "features = {name:np.array(value) for name, value in norm_test_df.items()}\n",
    "label = np.array(features.pop(label_name))\n",
    "\n",
    "my_model.evaluate(x = features, y = label, batch_size=batch_size)"
   ]
  },
  {
   "cell_type": "markdown",
   "metadata": {},
   "source": [
    "> A perfect model would make 100% accurate predictions, but our model made 80.1%. Seems good."
   ]
  },
  {
   "cell_type": "markdown",
   "metadata": {},
   "source": [
    "#### Add **precision** and **recall** to metrics"
   ]
  },
  {
   "cell_type": "code",
   "execution_count": 37,
   "metadata": {},
   "outputs": [
    {
     "name": "stdout",
     "output_type": "stream",
     "text": [
      "Train on 17000 samples\n",
      "Epoch 1/20\n",
      "17000/17000 [==============================] - 1s 58us/sample - loss: 0.6032 - accuracy: 0.5111 - precision: 0.3213 - recall: 0.8604\n",
      "Epoch 2/20\n",
      "17000/17000 [==============================] - 0s 13us/sample - loss: 0.5419 - accuracy: 0.6029 - precision: 0.3694 - recall: 0.8335\n",
      "Epoch 3/20\n",
      "17000/17000 [==============================] - 0s 12us/sample - loss: 0.4950 - accuracy: 0.6647 - precision: 0.4122 - recall: 0.8032\n",
      "Epoch 4/20\n",
      "17000/17000 [==============================] - 0s 12us/sample - loss: 0.4607 - accuracy: 0.7091 - precision: 0.4519 - recall: 0.7723\n",
      "Epoch 5/20\n",
      "17000/17000 [==============================] - 0s 12us/sample - loss: 0.4359 - accuracy: 0.7405 - precision: 0.4874 - recall: 0.7450\n",
      "Epoch 6/20\n",
      "17000/17000 [==============================] - 0s 12us/sample - loss: 0.4184 - accuracy: 0.7633 - precision: 0.5191 - recall: 0.7123\n",
      "Epoch 7/20\n",
      "17000/17000 [==============================] - 0s 13us/sample - loss: 0.4075 - accuracy: 0.7814 - precision: 0.5501 - recall: 0.6868\n",
      "Epoch 8/20\n",
      "17000/17000 [==============================] - 0s 12us/sample - loss: 0.4016 - accuracy: 0.7927 - precision: 0.5736 - recall: 0.6635\n",
      "Epoch 9/20\n",
      "17000/17000 [==============================] - 0s 12us/sample - loss: 0.3987 - accuracy: 0.7999 - precision: 0.5916 - recall: 0.6426\n",
      "Epoch 10/20\n",
      "17000/17000 [==============================] - 0s 12us/sample - loss: 0.3975 - accuracy: 0.8059 - precision: 0.6073 - recall: 0.6315\n",
      "Epoch 11/20\n",
      "17000/17000 [==============================] - 0s 13us/sample - loss: 0.3970 - accuracy: 0.8078 - precision: 0.6133 - recall: 0.6237\n",
      "Epoch 12/20\n",
      "17000/17000 [==============================] - 0s 13us/sample - loss: 0.3968 - accuracy: 0.8076 - precision: 0.6142 - recall: 0.6188\n",
      "Epoch 13/20\n",
      "17000/17000 [==============================] - 0s 12us/sample - loss: 0.3967 - accuracy: 0.8082 - precision: 0.6163 - recall: 0.6160\n",
      "Epoch 14/20\n",
      "17000/17000 [==============================] - 0s 12us/sample - loss: 0.3967 - accuracy: 0.8084 - precision: 0.6168 - recall: 0.6155\n",
      "Epoch 15/20\n",
      "17000/17000 [==============================] - 0s 13us/sample - loss: 0.3966 - accuracy: 0.8094 - precision: 0.6194 - recall: 0.6146\n",
      "Epoch 16/20\n",
      "17000/17000 [==============================] - 0s 12us/sample - loss: 0.3966 - accuracy: 0.8090 - precision: 0.6188 - recall: 0.6134\n",
      "Epoch 17/20\n",
      "17000/17000 [==============================] - 0s 13us/sample - loss: 0.3966 - accuracy: 0.8094 - precision: 0.6193 - recall: 0.6148\n",
      "Epoch 18/20\n",
      "17000/17000 [==============================] - 0s 12us/sample - loss: 0.3966 - accuracy: 0.8082 - precision: 0.6164 - recall: 0.6148\n",
      "Epoch 19/20\n",
      "17000/17000 [==============================] - 0s 13us/sample - loss: 0.3966 - accuracy: 0.8094 - precision: 0.6200 - recall: 0.6127\n",
      "Epoch 20/20\n",
      "17000/17000 [==============================] - 0s 15us/sample - loss: 0.3966 - accuracy: 0.8094 - precision: 0.6195 - recall: 0.6138\n"
     ]
    },
    {
     "data": {
      "image/png": "[encoded data removed]",
      "text/plain": [
       "<Figure size 864x504 with 1 Axes>"
      ]
     },
     "metadata": {},
     "output_type": "display_data"
    }
   ],
   "source": [
    "# The following variables are the hyperparameters.\n",
    "learning_rate = 0.001\n",
    "epochs = 20\n",
    "batch_size = 100\n",
    "label_name = \"median_house_value_is_high\"\n",
    "classification_threshold = 0.35\n",
    "\n",
    "# Establish the metrics the model will measure.\n",
    "metrics = [\n",
    "           tf.keras.metrics.BinaryAccuracy(name='accuracy', \n",
    "                                           threshold=classification_threshold),\n",
    "           tf.keras.metrics.Precision(name=\"precision\",\n",
    "                                     thresholds=classification_threshold),\n",
    "           tf.keras.metrics.Recall(name=\"recall\",\n",
    "                                  thresholds=classification_threshold),\n",
    "          ]\n",
    "\n",
    "my_model = evaluate_model(norm_train_df, label_name, learning_rate, epochs, batch_size, metrics, [\"accuracy\", \"precision\", \"recall\"])"
   ]
  },
  {
   "cell_type": "code",
   "execution_count": 42,
   "metadata": {},
   "outputs": [
    {
     "name": "stdout",
     "output_type": "stream",
     "text": [
      "Train on 17000 samples\n",
      "Epoch 1/20\n",
      "17000/17000 [==============================] - 1s 57us/sample - loss: 0.5803 - accuracy: 0.7419 - precision: 0.4888 - recall: 0.7196\n",
      "Epoch 2/20\n",
      "17000/17000 [==============================] - 0s 14us/sample - loss: 0.5332 - accuracy: 0.7618 - precision: 0.5175 - recall: 0.6842\n",
      "Epoch 3/20\n",
      "17000/17000 [==============================] - 0s 14us/sample - loss: 0.4937 - accuracy: 0.7800 - precision: 0.5508 - recall: 0.6478\n",
      "Epoch 4/20\n",
      "17000/17000 [==============================] - 0s 12us/sample - loss: 0.4614 - accuracy: 0.7965 - precision: 0.5896 - recall: 0.6105\n",
      "Epoch 5/20\n",
      "17000/17000 [==============================] - 0s 12us/sample - loss: 0.4368 - accuracy: 0.8131 - precision: 0.6385 - recall: 0.5806\n",
      "Epoch 6/20\n",
      "17000/17000 [==============================] - 0s 11us/sample - loss: 0.4194 - accuracy: 0.8222 - precision: 0.6788 - recall: 0.5474\n",
      "Epoch 7/20\n",
      "17000/17000 [==============================] - 0s 10us/sample - loss: 0.4081 - accuracy: 0.8286 - precision: 0.7179 - recall: 0.5171\n",
      "Epoch 8/20\n",
      "17000/17000 [==============================] - 0s 12us/sample - loss: 0.4021 - accuracy: 0.8323 - precision: 0.7493 - recall: 0.4940\n",
      "Epoch 9/20\n",
      "17000/17000 [==============================] - 0s 11us/sample - loss: 0.3990 - accuracy: 0.8351 - precision: 0.7714 - recall: 0.4832\n",
      "Epoch 10/20\n",
      "17000/17000 [==============================] - 0s 11us/sample - loss: 0.3977 - accuracy: 0.8356 - precision: 0.7805 - recall: 0.4756\n",
      "Epoch 11/20\n",
      "17000/17000 [==============================] - 0s 11us/sample - loss: 0.3972 - accuracy: 0.8362 - precision: 0.7872 - recall: 0.4721\n",
      "Epoch 12/20\n",
      "17000/17000 [==============================] - 0s 11us/sample - loss: 0.3969 - accuracy: 0.8364 - precision: 0.7878 - recall: 0.4721\n",
      "Epoch 13/20\n",
      "17000/17000 [==============================] - 0s 11us/sample - loss: 0.3967 - accuracy: 0.8362 - precision: 0.7876 - recall: 0.4714\n",
      "Epoch 14/20\n",
      "17000/17000 [==============================] - 0s 10us/sample - loss: 0.3967 - accuracy: 0.8359 - precision: 0.7845 - recall: 0.4730\n",
      "Epoch 15/20\n",
      "17000/17000 [==============================] - 0s 11us/sample - loss: 0.3966 - accuracy: 0.8362 - precision: 0.7862 - recall: 0.4728\n",
      "Epoch 16/20\n",
      "17000/17000 [==============================] - ETA: 0s - loss: 0.3968 - accuracy: 0.8363 - precision: 0.7889 - recall: 0.473 - 0s 11us/sample - loss: 0.3966 - accuracy: 0.8360 - precision: 0.7848 - recall: 0.4733\n",
      "Epoch 17/20\n",
      "17000/17000 [==============================] - ETA: 0s - loss: 0.3980 - accuracy: 0.8345 - precision: 0.7835 - recall: 0.467 - 0s 11us/sample - loss: 0.3966 - accuracy: 0.8355 - precision: 0.7846 - recall: 0.4709\n",
      "Epoch 18/20\n",
      "17000/17000 [==============================] - 0s 11us/sample - loss: 0.3966 - accuracy: 0.8359 - precision: 0.7884 - recall: 0.4693\n",
      "Epoch 19/20\n",
      "17000/17000 [==============================] - 0s 11us/sample - loss: 0.3966 - accuracy: 0.8361 - precision: 0.7848 - recall: 0.4740\n",
      "Epoch 20/20\n",
      "17000/17000 [==============================] - 0s 11us/sample - loss: 0.3966 - accuracy: 0.8361 - precision: 0.7824 - recall: 0.4766\n"
     ]
    },
    {
     "data": {
      "image/png": "[encoded data removed]",
      "text/plain": [
       "<Figure size 864x504 with 1 Axes>"
      ]
     },
     "metadata": {},
     "output_type": "display_data"
    }
   ],
   "source": [
    "# The following variables are the hyperparameters.\n",
    "learning_rate = 0.001\n",
    "epochs = 20\n",
    "batch_size = 100\n",
    "label_name = \"median_house_value_is_high\"\n",
    "classification_threshold = .52\n",
    "\n",
    "# Establish the metrics the model will measure.\n",
    "metrics = [\n",
    "           tf.keras.metrics.BinaryAccuracy(name='accuracy', \n",
    "                                           threshold=classification_threshold),\n",
    "           tf.keras.metrics.Precision(name=\"precision\",\n",
    "                                     thresholds=classification_threshold),\n",
    "           tf.keras.metrics.Recall(name=\"recall\",\n",
    "                                  thresholds=classification_threshold),\n",
    "          ]\n",
    "\n",
    "my_model = evaluate_model(norm_train_df, label_name, learning_rate, epochs, batch_size, metrics, [\"accuracy\", \"precision\", \"recall\"])"
   ]
  },
  {
   "cell_type": "code",
   "execution_count": 47,
   "metadata": {},
   "outputs": [
    {
     "name": "stdout",
     "output_type": "stream",
     "text": [
      "Train on 17000 samples\n",
      "Epoch 1/20\n",
      "17000/17000 [==============================] - 1s 40us/sample - loss: 1.1174 - auc: 0.2476\n",
      "Epoch 2/20\n",
      "17000/17000 [==============================] - 0s 13us/sample - loss: 1.0099 - auc: 0.2519\n",
      "Epoch 3/20\n",
      "17000/17000 [==============================] - 0s 13us/sample - loss: 0.9118 - auc: 0.2577\n",
      "Epoch 4/20\n",
      "17000/17000 [==============================] - 0s 13us/sample - loss: 0.8241 - auc: 0.2665\n",
      "Epoch 5/20\n",
      "17000/17000 [==============================] - 0s 13us/sample - loss: 0.7473 - auc: 0.2790\n",
      "Epoch 6/20\n",
      "17000/17000 [==============================] - 0s 12us/sample - loss: 0.6826 - auc: 0.3012\n",
      "Epoch 7/20\n",
      "17000/17000 [==============================] - 0s 14us/sample - loss: 0.6274 - auc: 0.3505\n",
      "Epoch 8/20\n",
      "17000/17000 [==============================] - 0s 14us/sample - loss: 0.5812 - auc: 0.4753\n",
      "Epoch 9/20\n",
      "17000/17000 [==============================] - 0s 13us/sample - loss: 0.5414 - auc: 0.6936\n",
      "Epoch 10/20\n",
      "17000/17000 [==============================] - 0s 14us/sample - loss: 0.5078 - auc: 0.7865\n",
      "Epoch 11/20\n",
      "17000/17000 [==============================] - 0s 13us/sample - loss: 0.4803 - auc: 0.8154\n",
      "Epoch 12/20\n",
      "17000/17000 [==============================] - 0s 14us/sample - loss: 0.4576 - auc: 0.8267\n",
      "Epoch 13/20\n",
      "17000/17000 [==============================] - 0s 16us/sample - loss: 0.4397 - auc: 0.8321\n",
      "Epoch 14/20\n",
      "17000/17000 [==============================] - 0s 14us/sample - loss: 0.4259 - auc: 0.8341\n",
      "Epoch 15/20\n",
      "17000/17000 [==============================] - 0s 14us/sample - loss: 0.4154 - auc: 0.8356\n",
      "Epoch 16/20\n",
      "17000/17000 [==============================] - 0s 13us/sample - loss: 0.4082 - auc: 0.8358\n",
      "Epoch 17/20\n",
      "17000/17000 [==============================] - 0s 12us/sample - loss: 0.4032 - auc: 0.8364\n",
      "Epoch 18/20\n",
      "17000/17000 [==============================] - 0s 13us/sample - loss: 0.4003 - auc: 0.8364\n",
      "Epoch 19/20\n",
      "17000/17000 [==============================] - 0s 13us/sample - loss: 0.3985 - auc: 0.8368\n",
      "Epoch 20/20\n",
      "17000/17000 [==============================] - 0s 13us/sample - loss: 0.3976 - auc: 0.8367\n"
     ]
    },
    {
     "data": {
      "image/png": "[encoded data removed]",
      "text/plain": [
       "<Figure size 864x504 with 1 Axes>"
      ]
     },
     "metadata": {},
     "output_type": "display_data"
    }
   ],
   "source": [
    "# The following variables are the hyperparameters.\n",
    "learning_rate = 0.001\n",
    "epochs = 20\n",
    "batch_size = 100\n",
    "label_name = \"median_house_value_is_high\"\n",
    "classification_threshold = .52\n",
    "\n",
    "# Establish the metrics the model will measure.\n",
    "metrics = [\n",
    "           tf.keras.metrics.AUC(name=\"auc\",\n",
    "                               num_thresholds=100)\n",
    "          ]\n",
    "\n",
    "my_model = evaluate_model(norm_train_df, label_name, learning_rate, epochs, batch_size, metrics, [\"auc\"])"
   ]
  },
  {
   "cell_type": "code",
   "execution_count": null,
   "metadata": {},
   "outputs": [],
   "source": []
  }
 ],
 "metadata": {
  "kernelspec": {
   "display_name": "Python 3",
   "language": "python",
   "name": "python3"
  },
  "language_info": {
   "codemirror_mode": {
    "name": "ipython",
    "version": 3
   },
   "file_extension": ".py",
   "mimetype": "text/x-python",
   "name": "python",
   "nbconvert_exporter": "python",
   "pygments_lexer": "ipython3",
   "version": "3.7.6"
  }
 },
 "nbformat": 4,
 "nbformat_minor": 4
}
